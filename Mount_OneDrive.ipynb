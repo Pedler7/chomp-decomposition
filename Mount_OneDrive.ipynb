{
  "nbformat": 4,
  "nbformat_minor": 0,
  "metadata": {
    "colab": {
      "name": "Mount OneDrive.ipynb",
      "provenance": [],
      "authorship_tag": "ABX9TyMTf8dW8x9ReEwttELnuB8V",
      "include_colab_link": true
    },
    "kernelspec": {
      "name": "python3",
      "display_name": "Python 3"
    }
  },
  "cells": [
    {
      "cell_type": "markdown",
      "metadata": {
        "id": "view-in-github",
        "colab_type": "text"
      },
      "source": [
        "<a href=\"https://colab.research.google.com/github/Pedler7/chomp-decomposition/blob/master/Mount_OneDrive.ipynb\" target=\"_parent\"><img src=\"https://colab.research.google.com/assets/colab-badge.svg\" alt=\"Open In Colab\"/></a>"
      ]
    },
    {
      "cell_type": "code",
      "metadata": {
        "id": "j3snvURbHD4l",
        "colab_type": "code",
        "colab": {
          "base_uri": "https://localhost:8080/",
          "height": 286
        },
        "outputId": "c9d229a7-f57f-4b85-9c11-646fe4fa9883"
      },
      "source": [
        "!apt install rclone\n",
        "\n",
        "\n"
      ],
      "execution_count": 4,
      "outputs": [
        {
          "output_type": "stream",
          "text": [
            "Reading package lists... Done\n",
            "Building dependency tree       \n",
            "Reading state information... Done\n",
            "The following NEW packages will be installed:\n",
            "  rclone\n",
            "0 upgraded, 1 newly installed, 0 to remove and 11 not upgraded.\n",
            "Need to get 3,186 kB of archives.\n",
            "After this operation, 12.6 MB of additional disk space will be used.\n",
            "Get:1 http://archive.ubuntu.com/ubuntu bionic/universe amd64 rclone amd64 1.36-3 [3,186 kB]\n",
            "Fetched 3,186 kB in 1s (3,614 kB/s)\n",
            "Selecting previously unselected package rclone.\n",
            "(Reading database ... 144676 files and directories currently installed.)\n",
            "Preparing to unpack .../rclone_1.36-3_amd64.deb ...\n",
            "Unpacking rclone (1.36-3) ...\n",
            "Setting up rclone (1.36-3) ...\n",
            "Processing triggers for man-db (2.8.3-2ubuntu0.1) ...\n"
          ],
          "name": "stdout"
        }
      ]
    }
  ]
}